{
 "cells": [
  {
   "cell_type": "code",
   "execution_count": 55,
   "metadata": {},
   "outputs": [],
   "source": [
    "from mytools.calculation import  *"
   ]
  },
  {
   "cell_type": "markdown",
   "metadata": {},
   "source": [
    "## convert "
   ]
  },
  {
   "cell_type": "code",
   "execution_count": 56,
   "metadata": {},
   "outputs": [
    {
     "data": {
      "text/latex": [
       "$0.099497235 \\; \\mathrm{MHz}$"
      ],
      "text/plain": [
       "<Quantity 0.09949724 MHz>"
      ]
     },
     "execution_count": 56,
     "metadata": {},
     "output_type": "execute_result"
    }
   ],
   "source": [
    "# the frequency width of HI with velocity width 21 km/s at z=0\n",
    "dv2df(21 *u.km/u.s).to(u.MHz)"
   ]
  },
  {
   "cell_type": "code",
   "execution_count": 57,
   "metadata": {},
   "outputs": [
    {
     "data": {
      "text/latex": [
       "$21.106114 \\; \\mathrm{\\frac{km}{s}}$"
      ],
      "text/plain": [
       "<Quantity 21.10611405 km / s>"
      ]
     },
     "execution_count": 57,
     "metadata": {},
     "output_type": "execute_result"
    }
   ],
   "source": [
    "df2dv(0.1*u.MHz).to('km/s')"
   ]
  },
  {
   "cell_type": "code",
   "execution_count": 58,
   "metadata": {},
   "outputs": [
    {
     "data": {
      "text/latex": [
       "$0.11751042 \\; \\mathrm{}$"
      ],
      "text/plain": [
       "<Quantity 0.11751042>"
      ]
     },
     "execution_count": 58,
     "metadata": {},
     "output_type": "execute_result"
    }
   ],
   "source": [
    "# calculate the redshift of the relative comoving distance in a simulation box, \n",
    "# which has a length at 100 Mpc, and the shifit of the box is z=0.1\n",
    "dc_to_z(100*u.Mpc, 100*u.Mpc, 0.1) # the far side edge"
   ]
  },
  {
   "cell_type": "code",
   "execution_count": 59,
   "metadata": {},
   "outputs": [
    {
     "data": {
      "text/latex": [
       "$0.10108973 \\; \\mathrm{}$"
      ],
      "text/plain": [
       "<Quantity 0.10108973>"
      ]
     },
     "execution_count": 59,
     "metadata": {},
     "output_type": "execute_result"
    }
   ],
   "source": [
    "freq2z(1.29*u.GHz)"
   ]
  },
  {
   "cell_type": "code",
   "execution_count": 60,
   "metadata": {},
   "outputs": [
    {
     "data": {
      "text/latex": [
       "$1.2911996 \\times 10^{9} \\; \\mathrm{Hz}$"
      ],
      "text/plain": [
       "<Quantity 1.29119965e+09 Hz>"
      ]
     },
     "execution_count": 60,
     "metadata": {},
     "output_type": "execute_result"
    }
   ],
   "source": [
    "z2freq(0.1, 20*u.km/u.s)"
   ]
  },
  {
   "cell_type": "code",
   "execution_count": 61,
   "metadata": {},
   "outputs": [
    {
     "data": {
      "text/plain": [
       "0.01"
      ]
     },
     "execution_count": 61,
     "metadata": {},
     "output_type": "execute_result"
    }
   ],
   "source": [
    "get_unit_factor('cm', 'm')"
   ]
  },
  {
   "cell_type": "markdown",
   "metadata": {},
   "source": [
    "## system"
   ]
  },
  {
   "cell_type": "code",
   "execution_count": 62,
   "metadata": {},
   "outputs": [
    {
     "data": {
      "text/latex": [
       "$2.9506707 \\; \\mathrm{{}^{\\prime}}$"
      ],
      "text/plain": [
       "<Quantity 2.95067067 arcmin>"
      ]
     },
     "execution_count": 62,
     "metadata": {},
     "output_type": "execute_result"
    }
   ],
   "source": [
    "# Rayleigh Criterion\n",
    "resolution() # FAST main beam resolution for HI rest wavelength."
   ]
  },
  {
   "cell_type": "code",
   "execution_count": 63,
   "metadata": {},
   "outputs": [
    {
     "data": {
      "text/latex": [
       "$3.2457377 \\; \\mathrm{{}^{\\prime}}$"
      ],
      "text/plain": [
       "<Quantity 3.24573773 arcmin>"
      ]
     },
     "execution_count": 63,
     "metadata": {},
     "output_type": "execute_result"
    }
   ],
   "source": [
    "mainbeam(0.1) # FAST main beam resolution for HI obs wavelength at z=0.1."
   ]
  },
  {
   "cell_type": "code",
   "execution_count": 64,
   "metadata": {},
   "outputs": [
    {
     "data": {
      "text/latex": [
       "$36712.117 \\; \\mathrm{arcsec^{2}}$"
      ],
      "text/plain": [
       "<Quantity 36712.1171488 arcsec2>"
      ]
     },
     "execution_count": 64,
     "metadata": {},
     "output_type": "execute_result"
    }
   ],
   "source": [
    "beam_solid_angle(3*u.arcmin).to(u.arcsec**2) # FAST main beam solid angle."
   ]
  },
  {
   "cell_type": "code",
   "execution_count": 65,
   "metadata": {},
   "outputs": [
    {
     "data": {
      "text/latex": [
       "$13.131688 \\; \\mathrm{s}$"
      ],
      "text/plain": [
       "<Quantity 13.13168764 s>"
      ]
     },
     "execution_count": 65,
     "metadata": {},
     "output_type": "execute_result"
    }
   ],
   "source": [
    "# the integration time of each pixel within the FWHM beam width of FAST drift scan survey\n",
    "drift_integration_time() "
   ]
  },
  {
   "cell_type": "code",
   "execution_count": 66,
   "metadata": {},
   "outputs": [
    {
     "data": {
      "text/latex": [
       "$28.889713 \\; \\mathrm{s}$"
      ],
      "text/plain": [
       "<Quantity 28.88971281 s>"
      ]
     },
     "execution_count": 66,
     "metadata": {},
     "output_type": "execute_result"
    }
   ],
   "source": [
    "# the integration time of the ... for HIIM at z=0.1\n",
    "get_integration_time_FAST_HIIM() "
   ]
  },
  {
   "cell_type": "code",
   "execution_count": 67,
   "metadata": {},
   "outputs": [
    {
     "data": {
      "text/latex": [
       "$3.5457965 \\; \\mathrm{K}$"
      ],
      "text/plain": [
       "<Quantity 3.54579648 K>"
      ]
     },
     "execution_count": 67,
     "metadata": {},
     "output_type": "execute_result"
    }
   ],
   "source": [
    "tb_sky() # the sky model at HI rest freq"
   ]
  },
  {
   "cell_type": "code",
   "execution_count": 68,
   "metadata": {},
   "outputs": [
    {
     "data": {
      "text/latex": [
       "$49480.084 \\; \\mathrm{m^{2}}$"
      ],
      "text/plain": [
       "<Quantity 49480.08429404 m2>"
      ]
     },
     "execution_count": 68,
     "metadata": {},
     "output_type": "execute_result"
    }
   ],
   "source": [
    "circular_area()*0.7 # FAST effective collecting area"
   ]
  },
  {
   "cell_type": "code",
   "execution_count": 69,
   "metadata": {},
   "outputs": [
    {
     "data": {
      "text/latex": [
       "$0.78128751 \\; \\mathrm{Jy}$"
      ],
      "text/plain": [
       "<Quantity 0.78128751 Jy>"
      ]
     },
     "execution_count": 69,
     "metadata": {},
     "output_type": "execute_result"
    }
   ],
   "source": [
    "SEFD(20*u.K).to(u.Jy)"
   ]
  },
  {
   "cell_type": "code",
   "execution_count": 70,
   "metadata": {},
   "outputs": [
    {
     "data": {
      "text/latex": [
       "$0.85013761 \\; \\mathrm{mJy}$"
      ],
      "text/plain": [
       "<Quantity 0.85013761 mJy>"
      ]
     },
     "execution_count": 70,
     "metadata": {},
     "output_type": "execute_result"
    }
   ],
   "source": [
    "flux_density_sensitivity(t_sys=23.6*u.K, delta_f=0.025*u.MHz)"
   ]
  },
  {
   "cell_type": "markdown",
   "metadata": {},
   "source": [
    "# FAST at z=0.1"
   ]
  },
  {
   "cell_type": "code",
   "execution_count": 71,
   "metadata": {},
   "outputs": [],
   "source": [
    "z =0.1\n",
    "t_rec = 20 *u.K # reciver temperature"
   ]
  },
  {
   "cell_type": "code",
   "execution_count": 72,
   "metadata": {},
   "outputs": [
    {
     "data": {
      "text/latex": [
       "$1.291278 \\; \\mathrm{GHz}$"
      ],
      "text/plain": [
       "<Quantity 1.29127796 GHz>"
      ]
     },
     "execution_count": 72,
     "metadata": {},
     "output_type": "execute_result"
    }
   ],
   "source": [
    "freq = z2freq(z).to(u.GHz)\n",
    "freq"
   ]
  },
  {
   "cell_type": "code",
   "execution_count": 73,
   "metadata": {},
   "outputs": [
    {
     "data": {
      "text/latex": [
       "$23.790258 \\; \\mathrm{K}$"
      ],
      "text/plain": [
       "<Quantity 23.79025838 K>"
      ]
     },
     "execution_count": 73,
     "metadata": {},
     "output_type": "execute_result"
    }
   ],
   "source": [
    "t_sys = tb_sky(freq) + t_rec\n",
    "t_sys"
   ]
  },
  {
   "cell_type": "code",
   "execution_count": 74,
   "metadata": {},
   "outputs": [
    {
     "data": {
      "text/latex": [
       "$11.022233 \\; \\mathrm{mK}$"
      ],
      "text/plain": [
       "<Quantity 11.02223318 mK>"
      ]
     },
     "execution_count": 74,
     "metadata": {},
     "output_type": "execute_result"
    }
   ],
   "source": [
    "brightness_temperature_sensitivity(t_sys=t_sys)"
   ]
  },
  {
   "cell_type": "code",
   "execution_count": 75,
   "metadata": {},
   "outputs": [
    {
     "data": {
      "text/latex": [
       "$11.936892 \\; \\mathrm{arcmin^{2}}$"
      ],
      "text/plain": [
       "<Quantity 11.93689213 arcmin2>"
      ]
     },
     "execution_count": 75,
     "metadata": {},
     "output_type": "execute_result"
    }
   ],
   "source": [
    "omega_mb = beam_solid_angle(mainbeam(z))\n",
    "omega_mb"
   ]
  },
  {
   "cell_type": "code",
   "execution_count": 76,
   "metadata": {},
   "outputs": [
    {
     "data": {
      "text/latex": [
       "$0.42849562 \\; \\mathrm{mJy}$"
      ],
      "text/plain": [
       "<Quantity 0.42849562 mJy>"
      ]
     },
     "execution_count": 76,
     "metadata": {},
     "output_type": "execute_result"
    }
   ],
   "source": [
    "sigma_sv = flux_density_sensitivity(t_sys)\n",
    "sigma_sv"
   ]
  },
  {
   "cell_type": "code",
   "execution_count": 77,
   "metadata": {},
   "outputs": [
    {
     "data": {
      "text/latex": [
       "$8.2811669 \\; \\mathrm{mK}$"
      ],
      "text/plain": [
       "<Quantity 8.28116693 mK>"
      ]
     },
     "execution_count": 77,
     "metadata": {},
     "output_type": "execute_result"
    }
   ],
   "source": [
    "snu2tb(sigma_sv, omega_mb, freq) #*(1.1)**3"
   ]
  },
  {
   "cell_type": "code",
   "execution_count": 78,
   "metadata": {},
   "outputs": [
    {
     "data": {
      "text/plain": [
       "11.105496787653845"
      ]
     },
     "execution_count": 78,
     "metadata": {},
     "output_type": "execute_result"
    }
   ],
   "source": [
    "6.68e5 * (1+z)**3 /beam_solid_angle(2.9*u.arcmin).to_value(u.arcsec**2) * sigma_sv.value"
   ]
  },
  {
   "cell_type": "markdown",
   "metadata": {},
   "source": [
    "## mass to tb"
   ]
  },
  {
   "cell_type": "code",
   "execution_count": 79,
   "metadata": {},
   "outputs": [
    {
     "data": {
      "text/latex": [
       "$10.795038 \\; \\mathrm{K}$"
      ],
      "text/plain": [
       "<Quantity 10.79503752 K>"
      ]
     },
     "execution_count": 79,
     "metadata": {},
     "output_type": "execute_result"
    }
   ],
   "source": [
    "mass_to_brightness_temperature(z, 1e9*u.solMass).to(u.K)"
   ]
  },
  {
   "cell_type": "code",
   "execution_count": 80,
   "metadata": {},
   "outputs": [
    {
     "data": {
      "text/latex": [
       "$2.5899686 \\times 10^{-5} \\; \\mathrm{K}$"
      ],
      "text/plain": [
       "<Quantity 2.58996864e-05 K>"
      ]
     },
     "execution_count": 80,
     "metadata": {},
     "output_type": "execute_result"
    }
   ],
   "source": [
    "mass_to_brightness_temperature(0.39,m=1e9*u.solMass, pixel_width=5.8*u.Mpc,delta_f=1*u.MHz).to('K')"
   ]
  },
  {
   "cell_type": "code",
   "execution_count": 81,
   "metadata": {},
   "outputs": [
    {
     "data": {
      "text/plain": [
       "2.0883573729600365e-09"
      ]
     },
     "execution_count": 81,
     "metadata": {},
     "output_type": "execute_result"
    }
   ],
   "source": [
    "get_unit_factor(mass_to_brightness_temperature().unit, 'K')"
   ]
  },
  {
   "cell_type": "code",
   "execution_count": null,
   "metadata": {},
   "outputs": [],
   "source": []
  }
 ],
 "metadata": {
  "kernelspec": {
   "display_name": "test",
   "language": "python",
   "name": "python3"
  },
  "language_info": {
   "codemirror_mode": {
    "name": "ipython",
    "version": 3
   },
   "file_extension": ".py",
   "mimetype": "text/x-python",
   "name": "python",
   "nbconvert_exporter": "python",
   "pygments_lexer": "ipython3",
   "version": "3.9.23"
  }
 },
 "nbformat": 4,
 "nbformat_minor": 2
}
